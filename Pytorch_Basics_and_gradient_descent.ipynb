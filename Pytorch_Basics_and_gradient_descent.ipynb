{
  "nbformat": 4,
  "nbformat_minor": 0,
  "metadata": {
    "colab": {
      "name": "Pytorch Basics and gradient descent.ipynb",
      "provenance": []
    },
    "kernelspec": {
      "name": "python3",
      "display_name": "Python 3"
    },
    "language_info": {
      "name": "python"
    }
  },
  "cells": [
    {
      "cell_type": "code",
      "metadata": {
        "id": "DBC-SyhSbFAw"
      },
      "source": [
        "import torch"
      ],
      "execution_count": 1,
      "outputs": []
    },
    {
      "cell_type": "code",
      "metadata": {
        "id": "ztRFWg6rbYy0"
      },
      "source": [
        "t1=torch.tensor(4.)"
      ],
      "execution_count": 2,
      "outputs": []
    },
    {
      "cell_type": "code",
      "metadata": {
        "colab": {
          "base_uri": "https://localhost:8080/"
        },
        "id": "6bqTg_sLbgSz",
        "outputId": "626a8ef6-ee85-45b1-93ab-edf1503907a8"
      },
      "source": [
        "t1"
      ],
      "execution_count": 3,
      "outputs": [
        {
          "output_type": "execute_result",
          "data": {
            "text/plain": [
              "tensor(4.)"
            ]
          },
          "metadata": {
            "tags": []
          },
          "execution_count": 3
        }
      ]
    },
    {
      "cell_type": "code",
      "metadata": {
        "colab": {
          "base_uri": "https://localhost:8080/"
        },
        "id": "YZw5SRKgbiE5",
        "outputId": "3706409f-f979-487f-9b03-8d9300396420"
      },
      "source": [
        "t1.dtype"
      ],
      "execution_count": 4,
      "outputs": [
        {
          "output_type": "execute_result",
          "data": {
            "text/plain": [
              "torch.float32"
            ]
          },
          "metadata": {
            "tags": []
          },
          "execution_count": 4
        }
      ]
    },
    {
      "cell_type": "code",
      "metadata": {
        "id": "2-IjdJipb6o5"
      },
      "source": [
        "t2=torch.tensor([1.,2,3,4])"
      ],
      "execution_count": 5,
      "outputs": []
    },
    {
      "cell_type": "code",
      "metadata": {
        "colab": {
          "base_uri": "https://localhost:8080/"
        },
        "id": "jDIE9d3ub_OH",
        "outputId": "dc5df87f-5ab6-4f9e-d47d-c096991916ac"
      },
      "source": [
        "t2"
      ],
      "execution_count": 6,
      "outputs": [
        {
          "output_type": "execute_result",
          "data": {
            "text/plain": [
              "tensor([1., 2., 3., 4.])"
            ]
          },
          "metadata": {
            "tags": []
          },
          "execution_count": 6
        }
      ]
    },
    {
      "cell_type": "code",
      "metadata": {
        "colab": {
          "base_uri": "https://localhost:8080/"
        },
        "id": "UvZUNPJRcAhI",
        "outputId": "c1c08e0f-8fee-4995-cbea-98182a5c113a"
      },
      "source": [
        "t2.dtype"
      ],
      "execution_count": 7,
      "outputs": [
        {
          "output_type": "execute_result",
          "data": {
            "text/plain": [
              "torch.float32"
            ]
          },
          "metadata": {
            "tags": []
          },
          "execution_count": 7
        }
      ]
    },
    {
      "cell_type": "code",
      "metadata": {
        "id": "nsub1xWdcC7C"
      },
      "source": [
        "t3=torch.tensor([[1.,2,3],[4,5,6],[7,8,9]])"
      ],
      "execution_count": 8,
      "outputs": []
    },
    {
      "cell_type": "code",
      "metadata": {
        "colab": {
          "base_uri": "https://localhost:8080/"
        },
        "id": "lavn8eMfcS43",
        "outputId": "5b75e2cf-237e-4583-fef6-637ae12fedd9"
      },
      "source": [
        "t3"
      ],
      "execution_count": 9,
      "outputs": [
        {
          "output_type": "execute_result",
          "data": {
            "text/plain": [
              "tensor([[1., 2., 3.],\n",
              "        [4., 5., 6.],\n",
              "        [7., 8., 9.]])"
            ]
          },
          "metadata": {
            "tags": []
          },
          "execution_count": 9
        }
      ]
    },
    {
      "cell_type": "code",
      "metadata": {
        "colab": {
          "base_uri": "https://localhost:8080/"
        },
        "id": "AYJw1GCfcUjm",
        "outputId": "26002d06-b1b6-4045-f556-dd17ac0910ee"
      },
      "source": [
        "t3.dtype"
      ],
      "execution_count": 10,
      "outputs": [
        {
          "output_type": "execute_result",
          "data": {
            "text/plain": [
              "torch.float32"
            ]
          },
          "metadata": {
            "tags": []
          },
          "execution_count": 10
        }
      ]
    },
    {
      "cell_type": "code",
      "metadata": {
        "colab": {
          "base_uri": "https://localhost:8080/"
        },
        "id": "6OPDtBEIco2t",
        "outputId": "f308dd8a-8d9d-41c3-e0c4-5399319f9466"
      },
      "source": [
        "t3.shape"
      ],
      "execution_count": 11,
      "outputs": [
        {
          "output_type": "execute_result",
          "data": {
            "text/plain": [
              "torch.Size([3, 3])"
            ]
          },
          "metadata": {
            "tags": []
          },
          "execution_count": 11
        }
      ]
    },
    {
      "cell_type": "code",
      "metadata": {
        "id": "c7kXmRK6cr_X"
      },
      "source": [
        "t4=torch.tensor([[[1,2,3],[4,5,6]],[[7,8,9],[10,11,12]]])"
      ],
      "execution_count": 12,
      "outputs": []
    },
    {
      "cell_type": "code",
      "metadata": {
        "colab": {
          "base_uri": "https://localhost:8080/"
        },
        "id": "pes-vaZYc6n9",
        "outputId": "958ce65a-c06d-4f34-89e7-6527beef0050"
      },
      "source": [
        "t4"
      ],
      "execution_count": 13,
      "outputs": [
        {
          "output_type": "execute_result",
          "data": {
            "text/plain": [
              "tensor([[[ 1,  2,  3],\n",
              "         [ 4,  5,  6]],\n",
              "\n",
              "        [[ 7,  8,  9],\n",
              "         [10, 11, 12]]])"
            ]
          },
          "metadata": {
            "tags": []
          },
          "execution_count": 13
        }
      ]
    },
    {
      "cell_type": "code",
      "metadata": {
        "colab": {
          "base_uri": "https://localhost:8080/"
        },
        "id": "wvVvy0M3c8OV",
        "outputId": "1ea14ca6-7f60-402a-aba9-5808077c6a00"
      },
      "source": [
        "t4.shape"
      ],
      "execution_count": 14,
      "outputs": [
        {
          "output_type": "execute_result",
          "data": {
            "text/plain": [
              "torch.Size([2, 2, 3])"
            ]
          },
          "metadata": {
            "tags": []
          },
          "execution_count": 14
        }
      ]
    },
    {
      "cell_type": "code",
      "metadata": {
        "colab": {
          "base_uri": "https://localhost:8080/"
        },
        "id": "qRh329nmdXSX",
        "outputId": "2350ed64-6213-40d5-eecf-4611ae6700f0"
      },
      "source": [
        "t1.shape"
      ],
      "execution_count": 15,
      "outputs": [
        {
          "output_type": "execute_result",
          "data": {
            "text/plain": [
              "torch.Size([])"
            ]
          },
          "metadata": {
            "tags": []
          },
          "execution_count": 15
        }
      ]
    },
    {
      "cell_type": "code",
      "metadata": {
        "id": "lkL6OeCJeajd"
      },
      "source": [
        "w=torch.tensor(3.,requires_grad=True)"
      ],
      "execution_count": 21,
      "outputs": []
    },
    {
      "cell_type": "code",
      "metadata": {
        "id": "OrC2FuEQehw9"
      },
      "source": [
        "x=torch.tensor(4.)"
      ],
      "execution_count": 17,
      "outputs": []
    },
    {
      "cell_type": "code",
      "metadata": {
        "id": "mmkW-E3belGb"
      },
      "source": [
        "b=torch.tensor(5.,requires_grad=True)"
      ],
      "execution_count": 22,
      "outputs": []
    },
    {
      "cell_type": "code",
      "metadata": {
        "colab": {
          "base_uri": "https://localhost:8080/"
        },
        "id": "kqrQCPkgen8v",
        "outputId": "efee2225-def5-4fe2-b24a-dcab5a51ae4f"
      },
      "source": [
        "y=w*x+b\n",
        "y"
      ],
      "execution_count": 23,
      "outputs": [
        {
          "output_type": "execute_result",
          "data": {
            "text/plain": [
              "tensor(17., grad_fn=<AddBackward0>)"
            ]
          },
          "metadata": {
            "tags": []
          },
          "execution_count": 23
        }
      ]
    },
    {
      "cell_type": "code",
      "metadata": {
        "id": "HeWcf1utetq0"
      },
      "source": [
        "y.backward()"
      ],
      "execution_count": 24,
      "outputs": []
    },
    {
      "cell_type": "code",
      "metadata": {
        "colab": {
          "base_uri": "https://localhost:8080/"
        },
        "id": "dxd1XMKCff7q",
        "outputId": "b1bd0125-fef9-4076-be72-def55bb90979"
      },
      "source": [
        "#print gradients\n",
        "print(\"dy/dx\",x.grad)\n",
        "print(\"dy/dw\",w.grad)\n",
        "print(\"dy/db\",b.grad)"
      ],
      "execution_count": 26,
      "outputs": [
        {
          "output_type": "stream",
          "text": [
            "dy/dx None\n",
            "dy/dw tensor(4.)\n",
            "dy/db tensor(1.)\n"
          ],
          "name": "stdout"
        }
      ]
    },
    {
      "cell_type": "code",
      "metadata": {
        "colab": {
          "base_uri": "https://localhost:8080/"
        },
        "id": "tbeGZ90PhcxA",
        "outputId": "1734c5e8-3118-4252-bf2c-c2b549e90c6e"
      },
      "source": [
        "#pass shape of the tensor and value \n",
        "t5=torch.full([3,2],42)\n",
        "t5"
      ],
      "execution_count": 28,
      "outputs": [
        {
          "output_type": "execute_result",
          "data": {
            "text/plain": [
              "tensor([[42, 42],\n",
              "        [42, 42],\n",
              "        [42, 42]])"
            ]
          },
          "metadata": {
            "tags": []
          },
          "execution_count": 28
        }
      ]
    },
    {
      "cell_type": "code",
      "metadata": {
        "colab": {
          "base_uri": "https://localhost:8080/"
        },
        "id": "ZpJr7GgtiBG-",
        "outputId": "5819d9b7-0b52-4e59-a970-3d36b838c4f7"
      },
      "source": [
        "torch.sin(t5)"
      ],
      "execution_count": 29,
      "outputs": [
        {
          "output_type": "execute_result",
          "data": {
            "text/plain": [
              "tensor([[-0.9165, -0.9165],\n",
              "        [-0.9165, -0.9165],\n",
              "        [-0.9165, -0.9165]])"
            ]
          },
          "metadata": {
            "tags": []
          },
          "execution_count": 29
        }
      ]
    },
    {
      "cell_type": "code",
      "metadata": {
        "colab": {
          "base_uri": "https://localhost:8080/"
        },
        "id": "TaVAfqMriGxB",
        "outputId": "66bdee0b-29e7-460d-edd6-f9dd5756dfd9"
      },
      "source": [
        "import numpy as np\n",
        "\n",
        "x1=np.array([[1,2],[3,4]])\n",
        "\n",
        "x1"
      ],
      "execution_count": 32,
      "outputs": [
        {
          "output_type": "execute_result",
          "data": {
            "text/plain": [
              "array([[1, 2],\n",
              "       [3, 4]])"
            ]
          },
          "metadata": {
            "tags": []
          },
          "execution_count": 32
        }
      ]
    },
    {
      "cell_type": "code",
      "metadata": {
        "id": "C_FrpQc_madR"
      },
      "source": [
        "y=torch.from_numpy(x1)"
      ],
      "execution_count": 34,
      "outputs": []
    },
    {
      "cell_type": "markdown",
      "metadata": {
        "id": "iNAoNJAgnDCQ"
      },
      "source": [
        "->Introduction to linear regression\n",
        "\n",
        "->Implementing a linear regression model using pytorch tensors\n",
        "\n",
        "->Implementing a linear regression model using gradient descent"
      ]
    },
    {
      "cell_type": "code",
      "metadata": {
        "id": "jRCFNlZYqQoq"
      },
      "source": [
        "#inputs(temp,rainfall,humidity)\n",
        "inputs=np.array([[73,67,43],\n",
        "                 [91,88,64],\n",
        "                 [87,134,58],\n",
        "                 [102,43,37],\n",
        "                 [69,96,70]],dtype='float32')"
      ],
      "execution_count": 35,
      "outputs": []
    },
    {
      "cell_type": "code",
      "metadata": {
        "colab": {
          "base_uri": "https://localhost:8080/"
        },
        "id": "hD4x4OoysSJR",
        "outputId": "b4e5425a-8b2c-4484-f0f6-6d0fcc782b4f"
      },
      "source": [
        "inputs"
      ],
      "execution_count": 36,
      "outputs": [
        {
          "output_type": "execute_result",
          "data": {
            "text/plain": [
              "array([[ 73.,  67.,  43.],\n",
              "       [ 91.,  88.,  64.],\n",
              "       [ 87., 134.,  58.],\n",
              "       [102.,  43.,  37.],\n",
              "       [ 69.,  96.,  70.]], dtype=float32)"
            ]
          },
          "metadata": {
            "tags": []
          },
          "execution_count": 36
        }
      ]
    },
    {
      "cell_type": "code",
      "metadata": {
        "id": "lwf1b_-XsULE"
      },
      "source": [
        "targets=np.array([[56,70],\n",
        "                  [81,101],\n",
        "                  [119,133],\n",
        "                  [22,37],\n",
        "                  [103,119]],dtype='float32')"
      ],
      "execution_count": 37,
      "outputs": []
    },
    {
      "cell_type": "code",
      "metadata": {
        "colab": {
          "base_uri": "https://localhost:8080/"
        },
        "id": "2Our5iOLs1Po",
        "outputId": "d2853eec-6149-4181-e614-6401d4dc51dc"
      },
      "source": [
        "targets"
      ],
      "execution_count": 39,
      "outputs": [
        {
          "output_type": "execute_result",
          "data": {
            "text/plain": [
              "array([[ 56.,  70.],\n",
              "       [ 81., 101.],\n",
              "       [119., 133.],\n",
              "       [ 22.,  37.],\n",
              "       [103., 119.]], dtype=float32)"
            ]
          },
          "metadata": {
            "tags": []
          },
          "execution_count": 39
        }
      ]
    },
    {
      "cell_type": "code",
      "metadata": {
        "colab": {
          "base_uri": "https://localhost:8080/"
        },
        "id": "ixzXWeDxs4mu",
        "outputId": "5e82b5dc-3455-4e1c-b36b-831567be01fa"
      },
      "source": [
        "#converting numpy arrays to tensors\n",
        "inputs=torch.from_numpy(inputs)\n",
        "targets=torch.from_numpy(targets)\n",
        "print(inputs)\n",
        "print(targets)"
      ],
      "execution_count": 40,
      "outputs": [
        {
          "output_type": "stream",
          "text": [
            "tensor([[ 73.,  67.,  43.],\n",
            "        [ 91.,  88.,  64.],\n",
            "        [ 87., 134.,  58.],\n",
            "        [102.,  43.,  37.],\n",
            "        [ 69.,  96.,  70.]])\n",
            "tensor([[ 56.,  70.],\n",
            "        [ 81., 101.],\n",
            "        [119., 133.],\n",
            "        [ 22.,  37.],\n",
            "        [103., 119.]])\n"
          ],
          "name": "stdout"
        }
      ]
    },
    {
      "cell_type": "markdown",
      "metadata": {
        "id": "IvOA0LQ9tfNE"
      },
      "source": [
        "**Linear Regression Model from Scratch**"
      ]
    },
    {
      "cell_type": "markdown",
      "metadata": {
        "id": "ms5yV6veuuhL"
      },
      "source": [
        "yield_apple = w11*temp + w12*humidity + w13*rainfall\n",
        "\n",
        "yield_orange = w21*temp + w22*humidity + w23*rainfall"
      ]
    },
    {
      "cell_type": "code",
      "metadata": {
        "colab": {
          "base_uri": "https://localhost:8080/"
        },
        "id": "NTeuHnglu_Ma",
        "outputId": "b2ac1566-8255-4020-d091-856d6eb3829a"
      },
      "source": [
        "#initializing weights and biases\n",
        "w=torch.randn(2,3,requires_grad=True)\n",
        "b=torch.randn(2,requires_grad=True)\n",
        "print(w)\n",
        "print(b)"
      ],
      "execution_count": 41,
      "outputs": [
        {
          "output_type": "stream",
          "text": [
            "tensor([[-1.0916,  1.5954,  0.3657],\n",
            "        [ 0.0270, -0.4290, -0.0082]], requires_grad=True)\n",
            "tensor([-1.5762,  1.6781], requires_grad=True)\n"
          ],
          "name": "stdout"
        }
      ]
    },
    {
      "cell_type": "code",
      "metadata": {
        "id": "Zk_RVT4WvyJq"
      },
      "source": [
        "Y = X * Wt + B"
      ],
      "execution_count": null,
      "outputs": []
    },
    {
      "cell_type": "code",
      "metadata": {
        "id": "2a4pBkzVv_mR"
      },
      "source": [
        "def model(x):\n",
        "  return x @ w.t() + b"
      ],
      "execution_count": 42,
      "outputs": []
    },
    {
      "cell_type": "code",
      "metadata": {
        "colab": {
          "base_uri": "https://localhost:8080/"
        },
        "id": "8vo8UQWawTiL",
        "outputId": "6bd0c851-73ff-4700-f96f-f9034233006a"
      },
      "source": [
        "#generate predictions\n",
        "preds=model(inputs)\n",
        "print(preds)"
      ],
      "execution_count": 43,
      "outputs": [
        {
          "output_type": "stream",
          "text": [
            "tensor([[ 41.3464, -25.4483],\n",
            "        [ 62.8783, -34.1438],\n",
            "        [138.4375, -53.9389],\n",
            "        [-30.7940, -14.3192],\n",
            "        [101.8515, -38.2191]], grad_fn=<AddBackward0>)\n"
          ],
          "name": "stdout"
        }
      ]
    },
    {
      "cell_type": "code",
      "metadata": {
        "colab": {
          "base_uri": "https://localhost:8080/"
        },
        "id": "R5anntZvwxAT",
        "outputId": "02f00374-5815-4692-bfb6-1e827e7ca53f"
      },
      "source": [
        "#compare with targets\n",
        "print(targets)"
      ],
      "execution_count": 44,
      "outputs": [
        {
          "output_type": "stream",
          "text": [
            "tensor([[ 56.,  70.],\n",
            "        [ 81., 101.],\n",
            "        [119., 133.],\n",
            "        [ 22.,  37.],\n",
            "        [103., 119.]])\n"
          ],
          "name": "stdout"
        }
      ]
    },
    {
      "cell_type": "code",
      "metadata": {
        "colab": {
          "base_uri": "https://localhost:8080/"
        },
        "id": "DJyXD7llxdUj",
        "outputId": "b095e54e-b4b3-4594-e274-b40fd2148e81"
      },
      "source": [
        "diff = preds - targets\n",
        "torch.sum(diff * diff) / diff.numel()"
      ],
      "execution_count": 45,
      "outputs": [
        {
          "output_type": "execute_result",
          "data": {
            "text/plain": [
              "tensor(9338.1348, grad_fn=<DivBackward0>)"
            ]
          },
          "metadata": {
            "tags": []
          },
          "execution_count": 45
        }
      ]
    },
    {
      "cell_type": "code",
      "metadata": {
        "colab": {
          "base_uri": "https://localhost:8080/"
        },
        "id": "DP1losP2xqsb",
        "outputId": "12294a18-5f62-4afc-e91b-2dcec57d4ed0"
      },
      "source": [
        "diff.numel()"
      ],
      "execution_count": 46,
      "outputs": [
        {
          "output_type": "execute_result",
          "data": {
            "text/plain": [
              "10"
            ]
          },
          "metadata": {
            "tags": []
          },
          "execution_count": 46
        }
      ]
    },
    {
      "cell_type": "code",
      "metadata": {
        "id": "QxPRtP3IxtuK"
      },
      "source": [
        "def mse_loss(t1, t2):\n",
        "  diff = preds - targets\n",
        "  return torch.sum(diff * diff) / diff.numel()"
      ],
      "execution_count": 47,
      "outputs": []
    },
    {
      "cell_type": "code",
      "metadata": {
        "colab": {
          "base_uri": "https://localhost:8080/"
        },
        "id": "MWyfDSF585e1",
        "outputId": "a2b9e98b-5737-4424-d078-62790b5abd33"
      },
      "source": [
        "loss = mse_loss(preds, targets)\n",
        "print(loss)"
      ],
      "execution_count": 48,
      "outputs": [
        {
          "output_type": "stream",
          "text": [
            "tensor(9338.1348, grad_fn=<DivBackward0>)\n"
          ],
          "name": "stdout"
        }
      ]
    },
    {
      "cell_type": "code",
      "metadata": {
        "id": "oPIvcXyc9EEx"
      },
      "source": [
        "loss.backward()"
      ],
      "execution_count": 49,
      "outputs": []
    },
    {
      "cell_type": "code",
      "metadata": {
        "colab": {
          "base_uri": "https://localhost:8080/"
        },
        "id": "w1taPGjw9Vwm",
        "outputId": "aa2549ea-2d29-452a-eb6f-b58e8a480e5b"
      },
      "source": [
        "print(w)\n",
        "print(w.grad)"
      ],
      "execution_count": 50,
      "outputs": [
        {
          "output_type": "stream",
          "text": [
            "tensor([[-1.0916,  1.5954,  0.3657],\n",
            "        [ 0.0270, -0.4290, -0.0082]], requires_grad=True)\n",
            "tensor([[ -1298.3900,   -470.4536,   -539.2576],\n",
            "        [-10322.4355, -12127.4541,  -7300.0171]])\n"
          ],
          "name": "stdout"
        }
      ]
    },
    {
      "cell_type": "code",
      "metadata": {
        "id": "DHGFY8r8AQD7"
      },
      "source": [
        "with torch.no_grad():\n",
        "  w-=w.grad*1e-5\n",
        "  b-=b.grad*1e-5"
      ],
      "execution_count": 51,
      "outputs": []
    },
    {
      "cell_type": "code",
      "metadata": {
        "colab": {
          "base_uri": "https://localhost:8080/"
        },
        "id": "XmuQx7-TAjSS",
        "outputId": "e36b26a8-66d8-4c2d-9d0f-029f2f2e8fd8"
      },
      "source": [
        "w, b"
      ],
      "execution_count": 52,
      "outputs": [
        {
          "output_type": "execute_result",
          "data": {
            "text/plain": [
              "(tensor([[-1.0787,  1.6001,  0.3711],\n",
              "         [ 0.1302, -0.3078,  0.0648]], requires_grad=True),\n",
              " tensor([-1.5760,  1.6793], requires_grad=True))"
            ]
          },
          "metadata": {
            "tags": []
          },
          "execution_count": 52
        }
      ]
    },
    {
      "cell_type": "code",
      "metadata": {
        "colab": {
          "base_uri": "https://localhost:8080/"
        },
        "id": "OTOTMSneA9w-",
        "outputId": "0ece889f-f70e-45cf-c98d-6132d74928eb"
      },
      "source": [
        "loss = mse_loss(model(inputs), targets)\n",
        "print(loss)"
      ],
      "execution_count": 53,
      "outputs": [
        {
          "output_type": "stream",
          "text": [
            "tensor(9338.1348, grad_fn=<DivBackward0>)\n"
          ],
          "name": "stdout"
        }
      ]
    },
    {
      "cell_type": "code",
      "metadata": {
        "colab": {
          "base_uri": "https://localhost:8080/"
        },
        "id": "bfjZiKtdBhYA",
        "outputId": "cf6b616f-b3ed-47d5-a65d-4c65fb77d5b0"
      },
      "source": [
        "w.grad.zero_()\n",
        "b.grad.zero_()\n",
        "print(w.grad)"
      ],
      "execution_count": 55,
      "outputs": [
        {
          "output_type": "stream",
          "text": [
            "tensor([[0., 0., 0.],\n",
            "        [0., 0., 0.]])\n"
          ],
          "name": "stdout"
        }
      ]
    },
    {
      "cell_type": "code",
      "metadata": {
        "id": "fn7bjMTLB_NV"
      },
      "source": [
        "#train for 100 epochs\n",
        "for i in range(1,100):\n",
        "  preds=model(inputs)\n",
        "  loss=mse_loss(preds,targets)\n",
        "  loss.backward()\n",
        "  with torch.no_grad():\n",
        "    w-=w.grad*1e-5\n",
        "    b-=b.grad*1e-5\n",
        "    w.grad.zero_()\n",
        "    b.grad.zero_()"
      ],
      "execution_count": 57,
      "outputs": []
    },
    {
      "cell_type": "code",
      "metadata": {
        "colab": {
          "base_uri": "https://localhost:8080/"
        },
        "id": "E4YPUituDCTe",
        "outputId": "6f81308c-60d6-41a9-8807-a887accaa0ba"
      },
      "source": [
        "preds=model(inputs)\n",
        "loss=mse_loss(preds,targets)\n",
        "print(loss)"
      ],
      "execution_count": 58,
      "outputs": [
        {
          "output_type": "stream",
          "text": [
            "tensor(215.9802, grad_fn=<DivBackward0>)\n"
          ],
          "name": "stdout"
        }
      ]
    },
    {
      "cell_type": "code",
      "metadata": {
        "colab": {
          "base_uri": "https://localhost:8080/"
        },
        "id": "itiaH90wDbuF",
        "outputId": "46a18d98-a38a-46ff-f814-7fcb97138fe0"
      },
      "source": [
        "preds"
      ],
      "execution_count": 59,
      "outputs": [
        {
          "output_type": "execute_result",
          "data": {
            "text/plain": [
              "tensor([[ 53.0672,  75.6360],\n",
              "        [ 76.5830, 101.2669],\n",
              "        [138.0667, 123.0429],\n",
              "        [ -1.4936,  66.0376],\n",
              "        [105.0003, 103.5714]], grad_fn=<AddBackward0>)"
            ]
          },
          "metadata": {
            "tags": []
          },
          "execution_count": 59
        }
      ]
    },
    {
      "cell_type": "code",
      "metadata": {
        "colab": {
          "base_uri": "https://localhost:8080/"
        },
        "id": "cGjPAr1LDfar",
        "outputId": "7c5057e6-96a1-4e18-f17a-fda3cb302150"
      },
      "source": [
        "targets"
      ],
      "execution_count": 60,
      "outputs": [
        {
          "output_type": "execute_result",
          "data": {
            "text/plain": [
              "tensor([[ 56.,  70.],\n",
              "        [ 81., 101.],\n",
              "        [119., 133.],\n",
              "        [ 22.,  37.],\n",
              "        [103., 119.]])"
            ]
          },
          "metadata": {
            "tags": []
          },
          "execution_count": 60
        }
      ]
    },
    {
      "cell_type": "markdown",
      "metadata": {
        "id": "hSeawDpmDwwf"
      },
      "source": [
        "**Linear Regression with pytorch built-ins**"
      ]
    },
    {
      "cell_type": "code",
      "metadata": {
        "id": "sscOP5oDD5CX"
      },
      "source": [
        "import torch.nn as nn"
      ],
      "execution_count": 61,
      "outputs": []
    },
    {
      "cell_type": "code",
      "metadata": {
        "id": "SX9ZmRpLEONG"
      },
      "source": [
        "# Input (temp, rainfall, humidity)\n",
        "inputs = np.array([[73, 67, 43], \n",
        "                   [91, 88, 64], \n",
        "                   [87, 134, 58], \n",
        "                   [102, 43, 37], \n",
        "                   [69, 96, 70], \n",
        "                   [74, 66, 43], \n",
        "                   [91, 87, 65], \n",
        "                   [88, 134, 59], \n",
        "                   [101, 44, 37], \n",
        "                   [68, 96, 71], \n",
        "                   [73, 66, 44], \n",
        "                   [92, 87, 64], \n",
        "                   [87, 135, 57], \n",
        "                   [103, 43, 36], \n",
        "                   [68, 97, 70]], \n",
        "                  dtype='float32')"
      ],
      "execution_count": 62,
      "outputs": []
    },
    {
      "cell_type": "code",
      "metadata": {
        "id": "CLDiXJpGEcDZ"
      },
      "source": [
        "# Targets (apples, oranges)\n",
        "targets = np.array([[56, 70], \n",
        "                    [81, 101], \n",
        "                    [119, 133], \n",
        "                    [22, 37], \n",
        "                    [103, 119],\n",
        "                    [57, 69], \n",
        "                    [80, 102], \n",
        "                    [118, 132], \n",
        "                    [21, 38], \n",
        "                    [104, 118], \n",
        "                    [57, 69], \n",
        "                    [82, 100], \n",
        "                    [118, 134], \n",
        "                    [20, 38], \n",
        "                    [102, 120]], \n",
        "                   dtype='float32')"
      ],
      "execution_count": 63,
      "outputs": []
    },
    {
      "cell_type": "code",
      "metadata": {
        "id": "2GK0I4TuEhhd"
      },
      "source": [
        "inputs = torch.from_numpy(inputs)\n",
        "targets = torch.from_numpy(targets)"
      ],
      "execution_count": 64,
      "outputs": []
    },
    {
      "cell_type": "code",
      "metadata": {
        "colab": {
          "base_uri": "https://localhost:8080/"
        },
        "id": "ntt2NTeoEvPd",
        "outputId": "cd68ebf7-0179-43ed-e650-b9afb2e26a6c"
      },
      "source": [
        "inputs"
      ],
      "execution_count": 65,
      "outputs": [
        {
          "output_type": "execute_result",
          "data": {
            "text/plain": [
              "tensor([[ 73.,  67.,  43.],\n",
              "        [ 91.,  88.,  64.],\n",
              "        [ 87., 134.,  58.],\n",
              "        [102.,  43.,  37.],\n",
              "        [ 69.,  96.,  70.],\n",
              "        [ 74.,  66.,  43.],\n",
              "        [ 91.,  87.,  65.],\n",
              "        [ 88., 134.,  59.],\n",
              "        [101.,  44.,  37.],\n",
              "        [ 68.,  96.,  71.],\n",
              "        [ 73.,  66.,  44.],\n",
              "        [ 92.,  87.,  64.],\n",
              "        [ 87., 135.,  57.],\n",
              "        [103.,  43.,  36.],\n",
              "        [ 68.,  97.,  70.]])"
            ]
          },
          "metadata": {
            "tags": []
          },
          "execution_count": 65
        }
      ]
    },
    {
      "cell_type": "code",
      "metadata": {
        "id": "ytpHgl-uEzH1"
      },
      "source": [
        "from torch.utils.data import TensorDataset"
      ],
      "execution_count": 66,
      "outputs": []
    },
    {
      "cell_type": "code",
      "metadata": {
        "colab": {
          "base_uri": "https://localhost:8080/"
        },
        "id": "3iCzgWDRFQNw",
        "outputId": "98f09a15-ff9e-4b54-914c-05a71210355c"
      },
      "source": [
        "train_ds=TensorDataset(inputs, targets)\n",
        "train_ds[0:3]"
      ],
      "execution_count": 67,
      "outputs": [
        {
          "output_type": "execute_result",
          "data": {
            "text/plain": [
              "(tensor([[ 73.,  67.,  43.],\n",
              "         [ 91.,  88.,  64.],\n",
              "         [ 87., 134.,  58.]]), tensor([[ 56.,  70.],\n",
              "         [ 81., 101.],\n",
              "         [119., 133.]]))"
            ]
          },
          "metadata": {
            "tags": []
          },
          "execution_count": 67
        }
      ]
    },
    {
      "cell_type": "code",
      "metadata": {
        "id": "P_6wwZsdF6fL"
      },
      "source": [
        "from torch.utils.data import DataLoader"
      ],
      "execution_count": 68,
      "outputs": []
    },
    {
      "cell_type": "code",
      "metadata": {
        "id": "J-d73klwGEYT"
      },
      "source": [
        "batch_size=5\n",
        "train_dl = DataLoader(train_ds,batch_size,shuffle=True)"
      ],
      "execution_count": 69,
      "outputs": []
    },
    {
      "cell_type": "code",
      "metadata": {
        "colab": {
          "base_uri": "https://localhost:8080/"
        },
        "id": "WOeliSVRGc1y",
        "outputId": "7b019e43-7b10-473c-f49f-7d6996fbfd0a"
      },
      "source": [
        "for xb,yb in train_dl:\n",
        "  print(xb)\n",
        "  print(yb)\n",
        "  break"
      ],
      "execution_count": 70,
      "outputs": [
        {
          "output_type": "stream",
          "text": [
            "tensor([[ 73.,  66.,  44.],\n",
            "        [ 92.,  87.,  64.],\n",
            "        [ 74.,  66.,  43.],\n",
            "        [ 87., 134.,  58.],\n",
            "        [ 91.,  87.,  65.]])\n",
            "tensor([[ 57.,  69.],\n",
            "        [ 82., 100.],\n",
            "        [ 57.,  69.],\n",
            "        [119., 133.],\n",
            "        [ 80., 102.]])\n"
          ],
          "name": "stdout"
        }
      ]
    },
    {
      "cell_type": "code",
      "metadata": {
        "colab": {
          "base_uri": "https://localhost:8080/"
        },
        "id": "0Nu5I7s1G3pZ",
        "outputId": "07da53fe-4562-439b-bc85-00582804f71a"
      },
      "source": [
        "model=nn.Linear(3, 2)\n",
        "print(model.weight)\n",
        "print(model.bias)"
      ],
      "execution_count": 71,
      "outputs": [
        {
          "output_type": "stream",
          "text": [
            "Parameter containing:\n",
            "tensor([[ 0.0803, -0.1546, -0.4788],\n",
            "        [-0.3686, -0.2036,  0.3928]], requires_grad=True)\n",
            "Parameter containing:\n",
            "tensor([ 0.4410, -0.3332], requires_grad=True)\n"
          ],
          "name": "stdout"
        }
      ]
    },
    {
      "cell_type": "code",
      "metadata": {
        "colab": {
          "base_uri": "https://localhost:8080/"
        },
        "id": "-CgRN6eMHaXS",
        "outputId": "e91f7ff5-6dd1-4644-e923-c48d22191208"
      },
      "source": [
        "list(model.parameters())"
      ],
      "execution_count": 72,
      "outputs": [
        {
          "output_type": "execute_result",
          "data": {
            "text/plain": [
              "[Parameter containing:\n",
              " tensor([[ 0.0803, -0.1546, -0.4788],\n",
              "         [-0.3686, -0.2036,  0.3928]], requires_grad=True),\n",
              " Parameter containing:\n",
              " tensor([ 0.4410, -0.3332], requires_grad=True)]"
            ]
          },
          "metadata": {
            "tags": []
          },
          "execution_count": 72
        }
      ]
    },
    {
      "cell_type": "code",
      "metadata": {
        "colab": {
          "base_uri": "https://localhost:8080/"
        },
        "id": "S91WyUjeH1C5",
        "outputId": "20758069-bcce-40af-f504-24680e44678a"
      },
      "source": [
        "preds=model(inputs)\n",
        "print(preds)"
      ],
      "execution_count": 73,
      "outputs": [
        {
          "output_type": "stream",
          "text": [
            "tensor([[-24.6414, -23.9976],\n",
            "        [-36.4969, -26.6607],\n",
            "        [-41.0567, -36.9104],\n",
            "        [-15.7290, -32.1579],\n",
            "        [-42.3736, -17.8227],\n",
            "        [-24.4065, -24.1626],\n",
            "        [-36.8211, -26.0642],\n",
            "        [-41.4551, -36.8862],\n",
            "        [-15.9639, -31.9929],\n",
            "        [-42.9327, -17.0613],\n",
            "        [-24.9657, -23.4011],\n",
            "        [-36.2620, -26.8257],\n",
            "        [-40.7324, -37.5068],\n",
            "        [-15.1698, -32.9193],\n",
            "        [-42.6085, -17.6577]], grad_fn=<AddmmBackward>)\n"
          ],
          "name": "stdout"
        }
      ]
    },
    {
      "cell_type": "code",
      "metadata": {
        "id": "nKZlkIObIACC"
      },
      "source": [
        "import torch.nn.functional as F"
      ],
      "execution_count": 74,
      "outputs": []
    },
    {
      "cell_type": "code",
      "metadata": {
        "id": "HQrSTB6_IStD"
      },
      "source": [
        "loss_fn=F.mse_loss"
      ],
      "execution_count": 75,
      "outputs": []
    },
    {
      "cell_type": "code",
      "metadata": {
        "colab": {
          "base_uri": "https://localhost:8080/"
        },
        "id": "sIcjvoRAIdET",
        "outputId": "dbbdf7c7-41f6-4959-c91f-a0965645599c"
      },
      "source": [
        "loss=loss_fn(model(inputs), targets)\n",
        "print(loss)"
      ],
      "execution_count": 76,
      "outputs": [
        {
          "output_type": "stream",
          "text": [
            "tensor(14581.7686, grad_fn=<MseLossBackward>)\n"
          ],
          "name": "stdout"
        }
      ]
    },
    {
      "cell_type": "code",
      "metadata": {
        "id": "DgjsDulFJLn_"
      },
      "source": [
        "opt=torch.optim.SGD(model.parameters(),lr=1e-5)"
      ],
      "execution_count": 77,
      "outputs": []
    },
    {
      "cell_type": "code",
      "metadata": {
        "id": "kqNxZWqXJZpF"
      },
      "source": [
        "def fit(num_epochs,model,loss_fn,opt,train_dl):\n",
        "  for epoch in range(num_epochs):\n",
        "    for xb,yb in train_dl:\n",
        "      pred=model(xb)\n",
        "      loss=loss_fn(pred,yb)\n",
        "      loss.backward()\n",
        "      opt.step()\n",
        "      opt.zero_grad()\n",
        "    if((epoch+1)%10 == 0):\n",
        "      print('Epoch [{}/{}], Loss: {:.4f}'.format(epoch+1,num_epochs,loss.item()))"
      ],
      "execution_count": 78,
      "outputs": []
    },
    {
      "cell_type": "code",
      "metadata": {
        "colab": {
          "base_uri": "https://localhost:8080/"
        },
        "id": "00SkzGPNMDH8",
        "outputId": "a2c962f4-388d-483b-b4b8-38ca15803dc8"
      },
      "source": [
        "fit(100,model,loss_fn,opt,train_dl)"
      ],
      "execution_count": 79,
      "outputs": [
        {
          "output_type": "stream",
          "text": [
            "Epoch [10/100], Loss: 594.4860\n",
            "Epoch [20/100], Loss: 261.1644\n",
            "Epoch [30/100], Loss: 195.4435\n",
            "Epoch [40/100], Loss: 177.3789\n",
            "Epoch [50/100], Loss: 138.8846\n",
            "Epoch [60/100], Loss: 73.3971\n",
            "Epoch [70/100], Loss: 51.9347\n",
            "Epoch [80/100], Loss: 38.1995\n",
            "Epoch [90/100], Loss: 37.9783\n",
            "Epoch [100/100], Loss: 45.8821\n"
          ],
          "name": "stdout"
        }
      ]
    },
    {
      "cell_type": "code",
      "metadata": {
        "id": "0Xc7U8HaMTI5"
      },
      "source": [
        ""
      ],
      "execution_count": null,
      "outputs": []
    }
  ]
}